{
 "cells": [
  {
   "cell_type": "raw",
   "id": "df0c5706",
   "metadata": {},
   "source": [
    "Q1. In Python 3.X, what are the names and functions of string object types?\n",
    "ans- rstrip() ,split() ,splitlines(), startswith()"
   ]
  },
  {
   "cell_type": "raw",
   "id": "f6a480b0",
   "metadata": {},
   "source": [
    "Q2. How do the string forms in Python 3.X vary in terms of operations?\n",
    "ans- isupper(), join(),ljust(),lower()."
   ]
  },
  {
   "cell_type": "raw",
   "id": "d5fbe776",
   "metadata": {},
   "source": [
    "Q3. In 3.X, how do you put non-ASCII Unicode characters in a string?\n",
    "ans- You have two options to create Unicode string in Python. Either use decode() , or create a new Unicode string with UTF-8 encoding by unicode(). The unicode() method is unicode(string[, encoding, errors]) , its arguments should be 8-bit strings."
   ]
  },
  {
   "cell_type": "raw",
   "id": "112aefbf",
   "metadata": {},
   "source": [
    "Q4. In Python 3.X, what are the key differences between text-mode and binary-mode files?\n",
    "ans- When we try to read or write files in our program, usually there are two modes to use. Text mode, usually by default, and binary mode. Obviously, in text mode, the program writes data to file as text characters, and in binary mode, the program writes data to files as 0/1 bits."
   ]
  },
  {
   "cell_type": "raw",
   "id": "43770395",
   "metadata": {},
   "source": [
    "Q5. How can you interpret a Unicode text file containing text encoded in a different encoding than\n",
    "your platforms default?\n",
    "ans- To include Unicode characters in your Python source code, you can use Unicode escape characters in the form \\u0123 in your string. In Python 2. x, you also need to prefix the string literal with 'u'"
   ]
  },
  {
   "cell_type": "raw",
   "id": "a55235d9",
   "metadata": {},
   "source": [
    "Q6. What is the best way to make a Unicode text file in a particular encoding format?\n",
    "ans- You should either use normal open() and encode the unicode yourself, or (usually a better idea) use codecs.open() and not encode the data yourself."
   ]
  },
  {
   "cell_type": "raw",
   "id": "f5e03f8f",
   "metadata": {},
   "source": [
    "Q7. What qualifies ASCII text as a form of Unicode text?\n",
    "ans- Most computers are using ASCII encoding for text representation, which makes transferring data from one device to another a lot easier. ASCII is used for the representation of text such as symbols, letters, digits, etc. in computers."
   ]
  }
 ],
 "metadata": {
  "kernelspec": {
   "display_name": "Python 3 (ipykernel)",
   "language": "python",
   "name": "python3"
  },
  "language_info": {
   "codemirror_mode": {
    "name": "ipython",
    "version": 3
   },
   "file_extension": ".py",
   "mimetype": "text/x-python",
   "name": "python",
   "nbconvert_exporter": "python",
   "pygments_lexer": "ipython3",
   "version": "3.9.7"
  }
 },
 "nbformat": 4,
 "nbformat_minor": 5
}
